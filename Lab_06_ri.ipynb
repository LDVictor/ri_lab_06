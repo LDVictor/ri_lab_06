{
  "nbformat": 4,
  "nbformat_minor": 0,
  "metadata": {
    "colab": {
      "name": "Lab_06_ri.ipynb",
      "version": "0.3.2",
      "provenance": [],
      "collapsed_sections": [],
      "toc_visible": true
    },
    "kernelspec": {
      "name": "python3",
      "display_name": "Python 3"
    }
  },
  "cells": [
    {
      "cell_type": "markdown",
      "metadata": {
        "id": "MJLTyu82qf4z",
        "colab_type": "text"
      },
      "source": [
        "# Laboratório 06: Modelo Vetorial"
      ]
    },
    {
      "cell_type": "markdown",
      "metadata": {
        "id": "0odUa72pqo5n",
        "colab_type": "text"
      },
      "source": [
        "Antes de responder as perguntas deste laboratório, precisamos importar as extensões que usaremos no decorrer da atividade, tais como pandas, numpy e nltk."
      ]
    },
    {
      "cell_type": "markdown",
      "metadata": {
        "id": "jcu3jXRyrfL4",
        "colab_type": "text"
      },
      "source": [
        "\n",
        "*  **Importação das extensões necessárias** "
      ]
    },
    {
      "cell_type": "code",
      "metadata": {
        "id": "Ze0P9bmxrZLt",
        "colab_type": "code",
        "outputId": "0ecc40cf-9e53-461f-bd37-b7d64269be15",
        "colab": {
          "base_uri": "https://localhost:8080/",
          "height": 68
        }
      },
      "source": [
        "import csv\n",
        "import pandas as pd\n",
        "import numpy as np\n",
        "import nltk\n",
        "import re\n",
        "import collections\n",
        "import bisect\n",
        "from nltk.tokenize import RegexpTokenizer\n",
        "nltk.download('stopwords')"
      ],
      "execution_count": 1,
      "outputs": [
        {
          "output_type": "stream",
          "text": [
            "[nltk_data] Downloading package stopwords to /root/nltk_data...\n",
            "[nltk_data]   Unzipping corpora/stopwords.zip.\n"
          ],
          "name": "stdout"
        },
        {
          "output_type": "execute_result",
          "data": {
            "text/plain": [
              "True"
            ]
          },
          "metadata": {
            "tags": []
          },
          "execution_count": 1
        }
      ]
    },
    {
      "cell_type": "markdown",
      "metadata": {
        "id": "OdfYJOqisKRo",
        "colab_type": "text"
      },
      "source": [
        "# Questão 1"
      ]
    },
    {
      "cell_type": "markdown",
      "metadata": {
        "id": "y3lcNBd6sR8e",
        "colab_type": "text"
      },
      "source": [
        "**Reconstruir o índice considerando o conjunto de dados que indicamos. Esses são os dados coletados por Bernardi e os estaremos usando para facilitar a correção da atividade.**\n"
      ]
    },
    {
      "cell_type": "markdown",
      "metadata": {
        "id": "AIP33xNCrolV",
        "colab_type": "text"
      },
      "source": [
        "\n",
        "*   **Leitura do CSV**"
      ]
    },
    {
      "cell_type": "code",
      "metadata": {
        "id": "TaPNEpzirz6m",
        "colab_type": "code",
        "colab": {}
      },
      "source": [
        "colecao = pd.read_csv('https://raw.githubusercontent.com/LDVictor/ri_lab_06/master/results.csv')\n",
        "documentos = colecao['text']"
      ],
      "execution_count": 0,
      "outputs": []
    },
    {
      "cell_type": "markdown",
      "metadata": {
        "id": "0RRE9E9C2DPv",
        "colab_type": "text"
      },
      "source": [
        "*   **Criação dos índices**"
      ]
    },
    {
      "cell_type": "code",
      "metadata": {
        "id": "-wHF3gm-SeuE",
        "colab_type": "code",
        "colab": {}
      },
      "source": [
        "tokenizador = RegexpTokenizer(r'([A-Za-zÁáÉéÍíÓóÚúÃãÕõÇçÂâÊê]{3,27})')\n",
        "stopwords = nltk.corpus.stopwords.words('portuguese') \n",
        "indices = {}\n",
        "n = 0\n",
        "\n",
        "for texto in documentos:\n",
        "  palavras = [palavra for palavra in tokenizador.tokenize(texto.lower())\n",
        "           if not bool(re.search(r'\\d', palavra))\n",
        "           and palavra not in stopwords and len(palavra) >= 3]  \n",
        "  n += 1\n",
        "  for t in palavras:\n",
        "    if t not in indices.keys():\n",
        "      indices[t] = []\n",
        "    indices[t].append(n)\n",
        "    \n",
        "for elemento in indices.items():\n",
        "  d = dict(collections.Counter(elemento[1]))\n",
        "  indices[elemento[0]] = list(d.items())"
      ],
      "execution_count": 0,
      "outputs": []
    },
    {
      "cell_type": "markdown",
      "metadata": {
        "id": "slZPTQtAszjl",
        "colab_type": "text"
      },
      "source": [
        "Agora, temos o índice com o novo conjunto de dados da questão. \n",
        "\n",
        "Exemplo:"
      ]
    },
    {
      "cell_type": "code",
      "metadata": {
        "id": "sNHRaLWqQCpt",
        "colab_type": "code",
        "outputId": "1e5a82ff-4c18-4ec8-9fb0-15e2f5c7b66f",
        "colab": {
          "base_uri": "https://localhost:8080/",
          "height": 359
        }
      },
      "source": [
        "tabela_indices = pd.DataFrame()\n",
        "tabela_indices['Palavras'] = indices.keys()\n",
        "tabela_indices['Documentos e frequências'] = indices.values()\n",
        "\n",
        "tabela_indices.head(10)"
      ],
      "execution_count": 4,
      "outputs": [
        {
          "output_type": "execute_result",
          "data": {
            "text/html": [
              "<div>\n",
              "<style scoped>\n",
              "    .dataframe tbody tr th:only-of-type {\n",
              "        vertical-align: middle;\n",
              "    }\n",
              "\n",
              "    .dataframe tbody tr th {\n",
              "        vertical-align: top;\n",
              "    }\n",
              "\n",
              "    .dataframe thead th {\n",
              "        text-align: right;\n",
              "    }\n",
              "</style>\n",
              "<table border=\"1\" class=\"dataframe\">\n",
              "  <thead>\n",
              "    <tr style=\"text-align: right;\">\n",
              "      <th></th>\n",
              "      <th>Palavras</th>\n",
              "      <th>Documentos e frequências</th>\n",
              "    </tr>\n",
              "  </thead>\n",
              "  <tbody>\n",
              "    <tr>\n",
              "      <th>0</th>\n",
              "      <td>juíza</td>\n",
              "      <td>[(1, 2), (2, 1)]</td>\n",
              "    </tr>\n",
              "    <tr>\n",
              "      <th>1</th>\n",
              "      <td>federal</td>\n",
              "      <td>[(1, 2), (2, 2), (3, 1), (6, 1), (7, 3), (15, ...</td>\n",
              "    </tr>\n",
              "    <tr>\n",
              "      <th>2</th>\n",
              "      <td>ivani</td>\n",
              "      <td>[(1, 1), (2, 1)]</td>\n",
              "    </tr>\n",
              "    <tr>\n",
              "      <th>3</th>\n",
              "      <td>silva</td>\n",
              "      <td>[(1, 3), (2, 1), (6, 1), (14, 2), (26, 1), (73...</td>\n",
              "    </tr>\n",
              "    <tr>\n",
              "      <th>4</th>\n",
              "      <td>luz</td>\n",
              "      <td>[(1, 3), (2, 1), (9, 1), (17, 1), (32, 2), (78...</td>\n",
              "    </tr>\n",
              "    <tr>\n",
              "      <th>5</th>\n",
              "      <td>brasília</td>\n",
              "      <td>[(1, 1), (8, 1), (33, 1), (35, 1), (44, 1), (4...</td>\n",
              "    </tr>\n",
              "    <tr>\n",
              "      <th>6</th>\n",
              "      <td>proibiu</td>\n",
              "      <td>[(1, 1), (2, 1), (119, 1), (162, 1)]</td>\n",
              "    </tr>\n",
              "    <tr>\n",
              "      <th>7</th>\n",
              "      <td>caráter</td>\n",
              "      <td>[(1, 1), (15, 1), (36, 1), (60, 1), (89, 1), (...</td>\n",
              "    </tr>\n",
              "    <tr>\n",
              "      <th>8</th>\n",
              "      <td>liminar</td>\n",
              "      <td>[(1, 1), (2, 3), (119, 1), (217, 1)]</td>\n",
              "    </tr>\n",
              "    <tr>\n",
              "      <th>9</th>\n",
              "      <td>nesta</td>\n",
              "      <td>[(1, 2), (3, 1), (4, 1), (8, 1), (21, 1), (22,...</td>\n",
              "    </tr>\n",
              "  </tbody>\n",
              "</table>\n",
              "</div>"
            ],
            "text/plain": [
              "   Palavras                           Documentos e frequências\n",
              "0     juíza                                   [(1, 2), (2, 1)]\n",
              "1   federal  [(1, 2), (2, 2), (3, 1), (6, 1), (7, 3), (15, ...\n",
              "2     ivani                                   [(1, 1), (2, 1)]\n",
              "3     silva  [(1, 3), (2, 1), (6, 1), (14, 2), (26, 1), (73...\n",
              "4       luz  [(1, 3), (2, 1), (9, 1), (17, 1), (32, 2), (78...\n",
              "5  brasília  [(1, 1), (8, 1), (33, 1), (35, 1), (44, 1), (4...\n",
              "6   proibiu               [(1, 1), (2, 1), (119, 1), (162, 1)]\n",
              "7   caráter  [(1, 1), (15, 1), (36, 1), (60, 1), (89, 1), (...\n",
              "8   liminar               [(1, 1), (2, 3), (119, 1), (217, 1)]\n",
              "9     nesta  [(1, 2), (3, 1), (4, 1), (8, 1), (21, 1), (22,..."
            ]
          },
          "metadata": {
            "tags": []
          },
          "execution_count": 4
        }
      ]
    },
    {
      "cell_type": "markdown",
      "metadata": {
        "id": "VYY6t-0bs4Jx",
        "colab_type": "text"
      },
      "source": [
        "# Questão 2"
      ]
    },
    {
      "cell_type": "markdown",
      "metadata": {
        "id": "pCUxjPfIs6Jc",
        "colab_type": "text"
      },
      "source": [
        "**Refinar o índice invertido de forma a também incluir o IDF (inverse document frequency) de cada termo do dicionário.**"
      ]
    },
    {
      "cell_type": "markdown",
      "metadata": {
        "id": "KNSGlMvHfVlc",
        "colab_type": "text"
      },
      "source": [
        "Primeiro, faremos uma função que retorna o IDF do termo passado dado o dicionário."
      ]
    },
    {
      "cell_type": "code",
      "metadata": {
        "id": "koKSktXDfnxX",
        "colab_type": "code",
        "colab": {}
      },
      "source": [
        "def calculaIDF(m, k):\n",
        "  valorIDF = round(np.log((m+1) / k), 2)\n",
        "  return valorIDF"
      ],
      "execution_count": 0,
      "outputs": []
    },
    {
      "cell_type": "markdown",
      "metadata": {
        "id": "S_QgxDSRfuzs",
        "colab_type": "text"
      },
      "source": [
        "Agora, aplicaremos o IDF a cada palavra do ranking, adicionando o IDF ao dicionário em cada termo."
      ]
    },
    {
      "cell_type": "code",
      "metadata": {
        "id": "uxqKwkEx9E8i",
        "colab_type": "code",
        "colab": {}
      },
      "source": [
        "m = colecao.text.count()\n",
        "\n",
        "for palavra in indices:\n",
        "  k = len(indices[palavra])\n",
        "  idf = calculaIDF(m, k)\n",
        "  indices[palavra].append(idf)"
      ],
      "execution_count": 0,
      "outputs": []
    },
    {
      "cell_type": "markdown",
      "metadata": {
        "id": "aTYp8arqQYjn",
        "colab_type": "text"
      },
      "source": [
        "Exemplo:"
      ]
    },
    {
      "cell_type": "code",
      "metadata": {
        "id": "volcqGKvQbwI",
        "colab_type": "code",
        "outputId": "e5f70aee-0ebb-4de0-d659-2aea093e7f62",
        "colab": {
          "base_uri": "https://localhost:8080/",
          "height": 359
        }
      },
      "source": [
        "tabela_indices['IDF'] = [indice[-1] for indice in indices.values()]\n",
        "\n",
        "tabela_indices.head(10)"
      ],
      "execution_count": 7,
      "outputs": [
        {
          "output_type": "execute_result",
          "data": {
            "text/html": [
              "<div>\n",
              "<style scoped>\n",
              "    .dataframe tbody tr th:only-of-type {\n",
              "        vertical-align: middle;\n",
              "    }\n",
              "\n",
              "    .dataframe tbody tr th {\n",
              "        vertical-align: top;\n",
              "    }\n",
              "\n",
              "    .dataframe thead th {\n",
              "        text-align: right;\n",
              "    }\n",
              "</style>\n",
              "<table border=\"1\" class=\"dataframe\">\n",
              "  <thead>\n",
              "    <tr style=\"text-align: right;\">\n",
              "      <th></th>\n",
              "      <th>Palavras</th>\n",
              "      <th>Documentos e frequências</th>\n",
              "      <th>IDF</th>\n",
              "    </tr>\n",
              "  </thead>\n",
              "  <tbody>\n",
              "    <tr>\n",
              "      <th>0</th>\n",
              "      <td>juíza</td>\n",
              "      <td>[(1, 2), (2, 1), 4.83]</td>\n",
              "      <td>4.83</td>\n",
              "    </tr>\n",
              "    <tr>\n",
              "      <th>1</th>\n",
              "      <td>federal</td>\n",
              "      <td>[(1, 2), (2, 2), (3, 1), (6, 1), (7, 3), (15, ...</td>\n",
              "      <td>1.63</td>\n",
              "    </tr>\n",
              "    <tr>\n",
              "      <th>2</th>\n",
              "      <td>ivani</td>\n",
              "      <td>[(1, 1), (2, 1), 4.83]</td>\n",
              "      <td>4.83</td>\n",
              "    </tr>\n",
              "    <tr>\n",
              "      <th>3</th>\n",
              "      <td>silva</td>\n",
              "      <td>[(1, 3), (2, 1), (6, 1), (14, 2), (26, 1), (73...</td>\n",
              "      <td>3.04</td>\n",
              "    </tr>\n",
              "    <tr>\n",
              "      <th>4</th>\n",
              "      <td>luz</td>\n",
              "      <td>[(1, 3), (2, 1), (9, 1), (17, 1), (32, 2), (78...</td>\n",
              "      <td>2.53</td>\n",
              "    </tr>\n",
              "    <tr>\n",
              "      <th>5</th>\n",
              "      <td>brasília</td>\n",
              "      <td>[(1, 1), (8, 1), (33, 1), (35, 1), (44, 1), (4...</td>\n",
              "      <td>2.19</td>\n",
              "    </tr>\n",
              "    <tr>\n",
              "      <th>6</th>\n",
              "      <td>proibiu</td>\n",
              "      <td>[(1, 1), (2, 1), (119, 1), (162, 1), 4.14]</td>\n",
              "      <td>4.14</td>\n",
              "    </tr>\n",
              "    <tr>\n",
              "      <th>7</th>\n",
              "      <td>caráter</td>\n",
              "      <td>[(1, 1), (15, 1), (36, 1), (60, 1), (89, 1), (...</td>\n",
              "      <td>3.22</td>\n",
              "    </tr>\n",
              "    <tr>\n",
              "      <th>8</th>\n",
              "      <td>liminar</td>\n",
              "      <td>[(1, 1), (2, 3), (119, 1), (217, 1), 4.14]</td>\n",
              "      <td>4.14</td>\n",
              "    </tr>\n",
              "    <tr>\n",
              "      <th>9</th>\n",
              "      <td>nesta</td>\n",
              "      <td>[(1, 2), (3, 1), (4, 1), (8, 1), (21, 1), (22,...</td>\n",
              "      <td>0.91</td>\n",
              "    </tr>\n",
              "  </tbody>\n",
              "</table>\n",
              "</div>"
            ],
            "text/plain": [
              "   Palavras                           Documentos e frequências   IDF\n",
              "0     juíza                             [(1, 2), (2, 1), 4.83]  4.83\n",
              "1   federal  [(1, 2), (2, 2), (3, 1), (6, 1), (7, 3), (15, ...  1.63\n",
              "2     ivani                             [(1, 1), (2, 1), 4.83]  4.83\n",
              "3     silva  [(1, 3), (2, 1), (6, 1), (14, 2), (26, 1), (73...  3.04\n",
              "4       luz  [(1, 3), (2, 1), (9, 1), (17, 1), (32, 2), (78...  2.53\n",
              "5  brasília  [(1, 1), (8, 1), (33, 1), (35, 1), (44, 1), (4...  2.19\n",
              "6   proibiu         [(1, 1), (2, 1), (119, 1), (162, 1), 4.14]  4.14\n",
              "7   caráter  [(1, 1), (15, 1), (36, 1), (60, 1), (89, 1), (...  3.22\n",
              "8   liminar         [(1, 1), (2, 3), (119, 1), (217, 1), 4.14]  4.14\n",
              "9     nesta  [(1, 2), (3, 1), (4, 1), (8, 1), (21, 1), (22,...  0.91"
            ]
          },
          "metadata": {
            "tags": []
          },
          "execution_count": 7
        }
      ]
    },
    {
      "cell_type": "markdown",
      "metadata": {
        "id": "TVLYJuLRFe8l",
        "colab_type": "text"
      },
      "source": [
        "# Questão 3"
      ]
    },
    {
      "cell_type": "markdown",
      "metadata": {
        "id": "yXSqYyvOFg5v",
        "colab_type": "text"
      },
      "source": [
        "**Implementar as seguintes versões do modelo vetorial:**"
      ]
    },
    {
      "cell_type": "markdown",
      "metadata": {
        "id": "P2HV1SrWFlrv",
        "colab_type": "text"
      },
      "source": [
        "**1. Representação binária**"
      ]
    },
    {
      "cell_type": "code",
      "metadata": {
        "id": "6cZCAs3yFvM3",
        "colab_type": "code",
        "colab": {}
      },
      "source": [
        "def modeloVetorialBinario(consulta, documento):\n",
        "  pontos = 0\n",
        "  tokens_documento = documento.split()\n",
        "  tokens_consulta = consulta.split()\n",
        "  \n",
        "  for token in tokens_consulta:\n",
        "    pontos += (token in tokens_documento)\n",
        " \n",
        "  return pontos"
      ],
      "execution_count": 0,
      "outputs": []
    },
    {
      "cell_type": "markdown",
      "metadata": {
        "id": "enN8qoxhFv3p",
        "colab_type": "text"
      },
      "source": [
        "**2. TF**"
      ]
    },
    {
      "cell_type": "code",
      "metadata": {
        "id": "evHDpnCQF00K",
        "colab_type": "code",
        "colab": {}
      },
      "source": [
        "def modeloVetorialTF(consulta, documento):\n",
        "  pontos = 0\n",
        "  tokens_documento = documento.split()\n",
        "  tokens_consulta = consulta.split()\n",
        "  \n",
        "  for token in tokens_consulta:\n",
        "    pontos += tokens_documento.count(token)\n",
        "  \n",
        "  return pontos"
      ],
      "execution_count": 0,
      "outputs": []
    },
    {
      "cell_type": "markdown",
      "metadata": {
        "id": "fuwH-4F3F1dm",
        "colab_type": "text"
      },
      "source": [
        "**3. TF-IDF**"
      ]
    },
    {
      "cell_type": "code",
      "metadata": {
        "id": "f4v440yfF5eY",
        "colab_type": "code",
        "colab": {}
      },
      "source": [
        "def modeloVetorialTFIDF(consulta, documento):\n",
        "  pontos = 0\n",
        "  tokens_documento = documento.split()\n",
        "  tokens_consulta = consulta.split()\n",
        "  \n",
        "  for token in tokens_consulta:\n",
        "    cwd = tokens_documento.count(token)\n",
        "    pontos += cwd * indices[token][-1]\n",
        "  \n",
        "  return round(pontos, 2)"
      ],
      "execution_count": 0,
      "outputs": []
    },
    {
      "cell_type": "markdown",
      "metadata": {
        "id": "RL76bcDuF6CP",
        "colab_type": "text"
      },
      "source": [
        "**4. BM25**"
      ]
    },
    {
      "cell_type": "code",
      "metadata": {
        "id": "7Klo8gnvF_Zg",
        "colab_type": "code",
        "colab": {}
      },
      "source": [
        "def modeloVetorialBM25(consulta, documento, n):\n",
        "  pontos = 0\n",
        "  tokens_documento = documento.split()\n",
        "  tokens_consulta = consulta.split()\n",
        "  \n",
        "  palavras = [palavra for palavra in tokens_consulta if palavra in tokens_documento]\n",
        "    \n",
        "  for palavra in palavras:\n",
        "    cwd = tokens_documento.count(palavra)\n",
        "    dfw = len(indices[palavra][:-1])\n",
        "    pontos += (((k+1) * cwd) / (cwd + k)) * np.log10(((m+1) / dfw))\n",
        "  \n",
        "  return round(pontos, 2)"
      ],
      "execution_count": 0,
      "outputs": []
    },
    {
      "cell_type": "markdown",
      "metadata": {
        "id": "FWnqX0xUGCy_",
        "colab_type": "text"
      },
      "source": [
        "# Questão 4"
      ]
    },
    {
      "cell_type": "markdown",
      "metadata": {
        "id": "IxGXaZkVGELX",
        "colab_type": "text"
      },
      "source": [
        "**Execute os algoritmos separadamente em 3 consultas de sua escolha e retorne os top-5 documentos mais similares à cada consulta.**"
      ]
    },
    {
      "cell_type": "markdown",
      "metadata": {
        "id": "fiDVLdglNFNv",
        "colab_type": "text"
      },
      "source": [
        "Como primeiro passo, definiremos as 3 consultas para fazer o experimento."
      ]
    },
    {
      "cell_type": "code",
      "metadata": {
        "id": "MvBvcFXbNNop",
        "colab_type": "code",
        "colab": {}
      },
      "source": [
        "consultas = ['marcos pontes', 'jair bolsonaro', 'futebol']"
      ],
      "execution_count": 0,
      "outputs": []
    },
    {
      "cell_type": "markdown",
      "metadata": {
        "id": "ZE1kuG0OPZrF",
        "colab_type": "text"
      },
      "source": [
        "Agora, criaremos a função que retorna os top-5 documentos mais similares às consultas."
      ]
    },
    {
      "cell_type": "code",
      "metadata": {
        "id": "TiApoo3aPuVc",
        "colab_type": "code",
        "colab": {}
      },
      "source": [
        "def top5Documentos(consulta):\n",
        "  n = 0\n",
        "  d_binaria = []\n",
        "  d_tf = []\n",
        "  d_tfidf = []\n",
        "  d_bm25 = []\n",
        "  for documento in colecao.text:\n",
        "    documento = documento.lower()\n",
        "    n += 1\n",
        "    bisect.insort(d_binaria, (modeloVetorialBinario(consulta, documento), n))\n",
        "    bisect.insort(d_tf, (modeloVetorialTF(consulta, documento), n))\n",
        "    bisect.insort(d_tfidf, (modeloVetorialTFIDF(consulta, documento), n))\n",
        "    bisect.insort(d_bm25, (modeloVetorialBM25(consulta, documento, 10), n))\n",
        "  \n",
        "  d_binaria.reverse()\n",
        "  d_tf.reverse()\n",
        "  d_tfidf.reverse()\n",
        "  d_bm25.reverse()\n",
        "  \n",
        "  return d_binaria[:5], d_tf[:5], d_tfidf[:5], d_bm25[:5]"
      ],
      "execution_count": 0,
      "outputs": []
    },
    {
      "cell_type": "code",
      "metadata": {
        "id": "bwXxbVzgRqy-",
        "colab_type": "code",
        "colab": {}
      },
      "source": [
        "binario_top5 = ['','','']\n",
        "tf_top5 = ['','','']\n",
        "tfidf_top5 = ['','','']\n",
        "bm25_top5 = ['','','']\n",
        "\n",
        "binario_top5[0], tf_top5[0], tfidf_top5[0], bm25_top5[0] = top5Documentos(consultas[0])\n",
        "binario_top5[1], tf_top5[1], tfidf_top5[1], bm25_top5[1] = top5Documentos(consultas[1])\n",
        "binario_top5[2], tf_top5[2], tfidf_top5[2], bm25_top5[2] = top5Documentos(consultas[2])"
      ],
      "execution_count": 0,
      "outputs": []
    },
    {
      "cell_type": "markdown",
      "metadata": {
        "id": "7t04eFQfV51H",
        "colab_type": "text"
      },
      "source": [
        "Por fim, montaremos a tabela para mostrar os dados calculados."
      ]
    },
    {
      "cell_type": "code",
      "metadata": {
        "id": "63s4xWhqWCuu",
        "colab_type": "code",
        "outputId": "1f13a12d-6048-4ee5-f40f-0e5f7cd040f9",
        "colab": {
          "base_uri": "https://localhost:8080/",
          "height": 142
        }
      },
      "source": [
        "tabela_q4 = pd.DataFrame()\n",
        "\n",
        "tabela_q4['Consulta'] = consultas\n",
        "tabela_q4['Binário'] = binario_top5\n",
        "tabela_q4['TF'] = tf_top5\n",
        "tabela_q4['TF-IDF'] = tfidf_top5\n",
        "tabela_q4['BM25'] = bm25_top5\n",
        "\n",
        "tabela_q4.index += 1\n",
        "tabela_q4"
      ],
      "execution_count": 15,
      "outputs": [
        {
          "output_type": "execute_result",
          "data": {
            "text/html": [
              "<div>\n",
              "<style scoped>\n",
              "    .dataframe tbody tr th:only-of-type {\n",
              "        vertical-align: middle;\n",
              "    }\n",
              "\n",
              "    .dataframe tbody tr th {\n",
              "        vertical-align: top;\n",
              "    }\n",
              "\n",
              "    .dataframe thead th {\n",
              "        text-align: right;\n",
              "    }\n",
              "</style>\n",
              "<table border=\"1\" class=\"dataframe\">\n",
              "  <thead>\n",
              "    <tr style=\"text-align: right;\">\n",
              "      <th></th>\n",
              "      <th>Consulta</th>\n",
              "      <th>Binário</th>\n",
              "      <th>TF</th>\n",
              "      <th>TF-IDF</th>\n",
              "      <th>BM25</th>\n",
              "    </tr>\n",
              "  </thead>\n",
              "  <tbody>\n",
              "    <tr>\n",
              "      <th>1</th>\n",
              "      <td>marcos pontes</td>\n",
              "      <td>[(2, 42), (1, 235), (1, 173), (1, 101), (1, 96)]</td>\n",
              "      <td>[(6, 42), (3, 235), (1, 173), (1, 101), (1, 96)]</td>\n",
              "      <td>[(26.52, 42), (9.96, 235), (3.32, 173), (3.32,...</td>\n",
              "      <td>[(5.76, 42), (2.17, 235), (1.44, 173), (1.44, ...</td>\n",
              "    </tr>\n",
              "    <tr>\n",
              "      <th>2</th>\n",
              "      <td>jair bolsonaro</td>\n",
              "      <td>[(2, 238), (2, 237), (2, 231), (2, 224), (2, 2...</td>\n",
              "      <td>[(41, 207), (37, 151), (31, 166), (19, 19), (1...</td>\n",
              "      <td>[(67.98, 207), (55.14, 151), (42.18, 166), (25...</td>\n",
              "      <td>[(3.16, 207), (2.97, 151), (2.23, 166), (2.17,...</td>\n",
              "    </tr>\n",
              "    <tr>\n",
              "      <th>3</th>\n",
              "      <td>futebol</td>\n",
              "      <td>[(1, 243), (1, 242), (1, 212), (1, 189), (1, 1...</td>\n",
              "      <td>[(7, 242), (7, 47), (6, 115), (5, 118), (3, 212)]</td>\n",
              "      <td>[(17.36, 242), (17.36, 47), (14.88, 115), (12....</td>\n",
              "      <td>[(1.88, 242), (1.88, 47), (1.84, 115), (1.79, ...</td>\n",
              "    </tr>\n",
              "  </tbody>\n",
              "</table>\n",
              "</div>"
            ],
            "text/plain": [
              "         Consulta  ...                                               BM25\n",
              "1   marcos pontes  ...  [(5.76, 42), (2.17, 235), (1.44, 173), (1.44, ...\n",
              "2  jair bolsonaro  ...  [(3.16, 207), (2.97, 151), (2.23, 166), (2.17,...\n",
              "3         futebol  ...  [(1.88, 242), (1.88, 47), (1.84, 115), (1.79, ...\n",
              "\n",
              "[3 rows x 5 columns]"
            ]
          },
          "metadata": {
            "tags": []
          },
          "execution_count": 15
        }
      ]
    },
    {
      "cell_type": "markdown",
      "metadata": {
        "id": "s-_Tk4QBGW_Y",
        "colab_type": "text"
      },
      "source": [
        "# Questão 5"
      ]
    },
    {
      "cell_type": "markdown",
      "metadata": {
        "id": "MmIvhYcVGddA",
        "colab_type": "text"
      },
      "source": [
        "**Compare os resultados encontrados e responda.**"
      ]
    },
    {
      "cell_type": "markdown",
      "metadata": {
        "id": "_FZXqSQAGhWD",
        "colab_type": "text"
      },
      "source": [
        "**1. Quais modelos você acha que trouxe os melhores resultados? Por que? Inspecione os documentos retornados para melhor embasar sua resposta.**"
      ]
    },
    {
      "cell_type": "markdown",
      "metadata": {
        "id": "BAK_pBFAGlYo",
        "colab_type": "text"
      },
      "source": [
        "Para melhor embasar nossa resposta, vamos analisar os documentos que serão retornados, incluindo seus títulos."
      ]
    },
    {
      "cell_type": "code",
      "metadata": {
        "id": "1kLZM7-iJWnL",
        "colab_type": "code",
        "colab": {}
      },
      "source": [
        "def getTituloDocumento(documentos):\n",
        "  return [colecao.title[documento] for documento in documentos]\n",
        "\n",
        "def getPontuacaoTop1(tops):\n",
        "  return [top[0][0] for top in tops]\n",
        "\n",
        "def getDocumentoTop1(tops):\n",
        "  return [top[0][1] for top in tops]"
      ],
      "execution_count": 0,
      "outputs": []
    },
    {
      "cell_type": "code",
      "metadata": {
        "id": "j1u6MURJKPrU",
        "colab_type": "code",
        "colab": {}
      },
      "source": [
        "pontos_top5_binario = getPontuacaoTop1(binario_top5)\n",
        "pontos_top5_tf = getPontuacaoTop1(tf_top5)\n",
        "pontos_top5_tfidf = getPontuacaoTop1(tfidf_top5)\n",
        "pontos_top5_bm25 = getPontuacaoTop1(bm25_top5)\n",
        "\n",
        "documento_top5_binario = getDocumentoTop1(binario_top5)\n",
        "documento_top5_tf = getDocumentoTop1(tf_top5)\n",
        "documento_top5_tfidf = getDocumentoTop1(tfidf_top5)\n",
        "documento_top5_bm25 = getDocumentoTop1(bm25_top5)\n",
        "\n",
        "titulos_binario = getTituloDocumento(documento_top5_binario)\n",
        "titulos_tf = getTituloDocumento(documento_top5_tf)\n",
        "titulos_tfidf = getTituloDocumento(documento_top5_tfidf)\n",
        "titulos_bm25 = getTituloDocumento(documento_top5_bm25)"
      ],
      "execution_count": 0,
      "outputs": []
    },
    {
      "cell_type": "markdown",
      "metadata": {
        "id": "ITZbkv2KLuQr",
        "colab_type": "text"
      },
      "source": [
        "Agora, construiremos a tabela para cada modelo com os dados acima."
      ]
    },
    {
      "cell_type": "markdown",
      "metadata": {
        "id": "ZCvMTluEKIk7",
        "colab_type": "text"
      },
      "source": [
        "a) Representação binária"
      ]
    },
    {
      "cell_type": "code",
      "metadata": {
        "id": "2-p42D9ALQo0",
        "colab_type": "code",
        "outputId": "e815470a-a9a5-4e93-82d2-29a23e6f6420",
        "colab": {
          "base_uri": "https://localhost:8080/",
          "height": 142
        }
      },
      "source": [
        "tabela_q5_binaria = pd.DataFrame()\n",
        "tabela_q5_binaria['Consulta'] = consultas\n",
        "tabela_q5_binaria['Documento'] = documento_top5_binario\n",
        "tabela_q5_binaria['Título'] = titulos_binario\n",
        "tabela_q5_binaria['Pontuação'] = pontos_top5_binario\n",
        "\n",
        "tabela_q5_binaria.index += 1\n",
        "tabela_q5_binaria"
      ],
      "execution_count": 18,
      "outputs": [
        {
          "output_type": "execute_result",
          "data": {
            "text/html": [
              "<div>\n",
              "<style scoped>\n",
              "    .dataframe tbody tr th:only-of-type {\n",
              "        vertical-align: middle;\n",
              "    }\n",
              "\n",
              "    .dataframe tbody tr th {\n",
              "        vertical-align: top;\n",
              "    }\n",
              "\n",
              "    .dataframe thead th {\n",
              "        text-align: right;\n",
              "    }\n",
              "</style>\n",
              "<table border=\"1\" class=\"dataframe\">\n",
              "  <thead>\n",
              "    <tr style=\"text-align: right;\">\n",
              "      <th></th>\n",
              "      <th>Consulta</th>\n",
              "      <th>Documento</th>\n",
              "      <th>Título</th>\n",
              "      <th>Pontuação</th>\n",
              "    </tr>\n",
              "  </thead>\n",
              "  <tbody>\n",
              "    <tr>\n",
              "      <th>1</th>\n",
              "      <td>marcos pontes</td>\n",
              "      <td>42</td>\n",
              "      <td>“Mostre o que as loucas podem fazer”: o anúnci...</td>\n",
              "      <td>2</td>\n",
              "    </tr>\n",
              "    <tr>\n",
              "      <th>2</th>\n",
              "      <td>jair bolsonaro</td>\n",
              "      <td>238</td>\n",
              "      <td>Saúde mental dos estudantes  mais um desafio p...</td>\n",
              "      <td>2</td>\n",
              "    </tr>\n",
              "    <tr>\n",
              "      <th>3</th>\n",
              "      <td>futebol</td>\n",
              "      <td>243</td>\n",
              "      <td>Nanga Parbat  a obsessão com a ‘montanha assas...</td>\n",
              "      <td>1</td>\n",
              "    </tr>\n",
              "  </tbody>\n",
              "</table>\n",
              "</div>"
            ],
            "text/plain": [
              "         Consulta  ...  Pontuação\n",
              "1   marcos pontes  ...          2\n",
              "2  jair bolsonaro  ...          2\n",
              "3         futebol  ...          1\n",
              "\n",
              "[3 rows x 4 columns]"
            ]
          },
          "metadata": {
            "tags": []
          },
          "execution_count": 18
        }
      ]
    },
    {
      "cell_type": "markdown",
      "metadata": {
        "id": "A78MahO-L0-j",
        "colab_type": "text"
      },
      "source": [
        "b) TF"
      ]
    },
    {
      "cell_type": "code",
      "metadata": {
        "id": "SgCezFC_L4fE",
        "colab_type": "code",
        "outputId": "0ec00202-c945-4402-d959-5572c0ada77b",
        "colab": {
          "base_uri": "https://localhost:8080/",
          "height": 142
        }
      },
      "source": [
        "tabela_q5_tf = pd.DataFrame()\n",
        "tabela_q5_tf['Consulta'] = consultas\n",
        "tabela_q5_tf['Documento'] = documento_top5_tf\n",
        "tabela_q5_tf['Título'] = titulos_tf\n",
        "tabela_q5_tf['Pontuação'] = pontos_top5_tf\n",
        "\n",
        "tabela_q5_tf.index += 1\n",
        "tabela_q5_tf"
      ],
      "execution_count": 19,
      "outputs": [
        {
          "output_type": "execute_result",
          "data": {
            "text/html": [
              "<div>\n",
              "<style scoped>\n",
              "    .dataframe tbody tr th:only-of-type {\n",
              "        vertical-align: middle;\n",
              "    }\n",
              "\n",
              "    .dataframe tbody tr th {\n",
              "        vertical-align: top;\n",
              "    }\n",
              "\n",
              "    .dataframe thead th {\n",
              "        text-align: right;\n",
              "    }\n",
              "</style>\n",
              "<table border=\"1\" class=\"dataframe\">\n",
              "  <thead>\n",
              "    <tr style=\"text-align: right;\">\n",
              "      <th></th>\n",
              "      <th>Consulta</th>\n",
              "      <th>Documento</th>\n",
              "      <th>Título</th>\n",
              "      <th>Pontuação</th>\n",
              "    </tr>\n",
              "  </thead>\n",
              "  <tbody>\n",
              "    <tr>\n",
              "      <th>1</th>\n",
              "      <td>marcos pontes</td>\n",
              "      <td>42</td>\n",
              "      <td>“Mostre o que as loucas podem fazer”: o anúnci...</td>\n",
              "      <td>6</td>\n",
              "    </tr>\n",
              "    <tr>\n",
              "      <th>2</th>\n",
              "      <td>jair bolsonaro</td>\n",
              "      <td>207</td>\n",
              "      <td>Bolsonaro escancara cadáver insepulto da ditad...</td>\n",
              "      <td>41</td>\n",
              "    </tr>\n",
              "    <tr>\n",
              "      <th>3</th>\n",
              "      <td>futebol</td>\n",
              "      <td>242</td>\n",
              "      <td>A fortuna blindada de Cristiano Ronaldo</td>\n",
              "      <td>7</td>\n",
              "    </tr>\n",
              "  </tbody>\n",
              "</table>\n",
              "</div>"
            ],
            "text/plain": [
              "         Consulta  ...  Pontuação\n",
              "1   marcos pontes  ...          6\n",
              "2  jair bolsonaro  ...         41\n",
              "3         futebol  ...          7\n",
              "\n",
              "[3 rows x 4 columns]"
            ]
          },
          "metadata": {
            "tags": []
          },
          "execution_count": 19
        }
      ]
    },
    {
      "cell_type": "markdown",
      "metadata": {
        "id": "b3OBfan6MQph",
        "colab_type": "text"
      },
      "source": [
        "c) TF-IDF"
      ]
    },
    {
      "cell_type": "code",
      "metadata": {
        "id": "yg1hBXWxMStD",
        "colab_type": "code",
        "outputId": "42eaff47-c4e3-44be-809c-fa673c7a8fd3",
        "colab": {
          "base_uri": "https://localhost:8080/",
          "height": 142
        }
      },
      "source": [
        "tabela_q5_tfidf = pd.DataFrame()\n",
        "tabela_q5_tfidf['Consulta'] = consultas\n",
        "tabela_q5_tfidf['Documento'] = documento_top5_tfidf\n",
        "tabela_q5_tfidf['Título'] = titulos_tfidf\n",
        "tabela_q5_tfidf['Pontuação'] = pontos_top5_tfidf\n",
        "\n",
        "tabela_q5_tfidf.index += 1\n",
        "tabela_q5_tfidf"
      ],
      "execution_count": 20,
      "outputs": [
        {
          "output_type": "execute_result",
          "data": {
            "text/html": [
              "<div>\n",
              "<style scoped>\n",
              "    .dataframe tbody tr th:only-of-type {\n",
              "        vertical-align: middle;\n",
              "    }\n",
              "\n",
              "    .dataframe tbody tr th {\n",
              "        vertical-align: top;\n",
              "    }\n",
              "\n",
              "    .dataframe thead th {\n",
              "        text-align: right;\n",
              "    }\n",
              "</style>\n",
              "<table border=\"1\" class=\"dataframe\">\n",
              "  <thead>\n",
              "    <tr style=\"text-align: right;\">\n",
              "      <th></th>\n",
              "      <th>Consulta</th>\n",
              "      <th>Documento</th>\n",
              "      <th>Título</th>\n",
              "      <th>Pontuação</th>\n",
              "    </tr>\n",
              "  </thead>\n",
              "  <tbody>\n",
              "    <tr>\n",
              "      <th>1</th>\n",
              "      <td>marcos pontes</td>\n",
              "      <td>42</td>\n",
              "      <td>“Mostre o que as loucas podem fazer”: o anúnci...</td>\n",
              "      <td>26.52</td>\n",
              "    </tr>\n",
              "    <tr>\n",
              "      <th>2</th>\n",
              "      <td>jair bolsonaro</td>\n",
              "      <td>207</td>\n",
              "      <td>Bolsonaro escancara cadáver insepulto da ditad...</td>\n",
              "      <td>67.98</td>\n",
              "    </tr>\n",
              "    <tr>\n",
              "      <th>3</th>\n",
              "      <td>futebol</td>\n",
              "      <td>242</td>\n",
              "      <td>A fortuna blindada de Cristiano Ronaldo</td>\n",
              "      <td>17.36</td>\n",
              "    </tr>\n",
              "  </tbody>\n",
              "</table>\n",
              "</div>"
            ],
            "text/plain": [
              "         Consulta  ...  Pontuação\n",
              "1   marcos pontes  ...      26.52\n",
              "2  jair bolsonaro  ...      67.98\n",
              "3         futebol  ...      17.36\n",
              "\n",
              "[3 rows x 4 columns]"
            ]
          },
          "metadata": {
            "tags": []
          },
          "execution_count": 20
        }
      ]
    },
    {
      "cell_type": "markdown",
      "metadata": {
        "id": "rzJuG1lTMgs1",
        "colab_type": "text"
      },
      "source": [
        "d) BM25"
      ]
    },
    {
      "cell_type": "code",
      "metadata": {
        "id": "dR_qNTGZMu9M",
        "colab_type": "code",
        "outputId": "fce3d622-5dde-42d9-b8af-24e0f8ebcf37",
        "colab": {
          "base_uri": "https://localhost:8080/",
          "height": 142
        }
      },
      "source": [
        "tabela_q5_bm25 = pd.DataFrame()\n",
        "tabela_q5_bm25['Consulta'] = consultas\n",
        "tabela_q5_bm25['Documento'] = documento_top5_bm25\n",
        "tabela_q5_bm25['Título'] = titulos_bm25\n",
        "tabela_q5_bm25['Pontuação'] = pontos_top5_bm25\n",
        "\n",
        "tabela_q5_bm25.index += 1\n",
        "tabela_q5_bm25"
      ],
      "execution_count": 21,
      "outputs": [
        {
          "output_type": "execute_result",
          "data": {
            "text/html": [
              "<div>\n",
              "<style scoped>\n",
              "    .dataframe tbody tr th:only-of-type {\n",
              "        vertical-align: middle;\n",
              "    }\n",
              "\n",
              "    .dataframe tbody tr th {\n",
              "        vertical-align: top;\n",
              "    }\n",
              "\n",
              "    .dataframe thead th {\n",
              "        text-align: right;\n",
              "    }\n",
              "</style>\n",
              "<table border=\"1\" class=\"dataframe\">\n",
              "  <thead>\n",
              "    <tr style=\"text-align: right;\">\n",
              "      <th></th>\n",
              "      <th>Consulta</th>\n",
              "      <th>Documento</th>\n",
              "      <th>Título</th>\n",
              "      <th>Pontuação</th>\n",
              "    </tr>\n",
              "  </thead>\n",
              "  <tbody>\n",
              "    <tr>\n",
              "      <th>1</th>\n",
              "      <td>marcos pontes</td>\n",
              "      <td>42</td>\n",
              "      <td>“Mostre o que as loucas podem fazer”: o anúnci...</td>\n",
              "      <td>5.76</td>\n",
              "    </tr>\n",
              "    <tr>\n",
              "      <th>2</th>\n",
              "      <td>jair bolsonaro</td>\n",
              "      <td>207</td>\n",
              "      <td>Bolsonaro escancara cadáver insepulto da ditad...</td>\n",
              "      <td>3.16</td>\n",
              "    </tr>\n",
              "    <tr>\n",
              "      <th>3</th>\n",
              "      <td>futebol</td>\n",
              "      <td>242</td>\n",
              "      <td>A fortuna blindada de Cristiano Ronaldo</td>\n",
              "      <td>1.88</td>\n",
              "    </tr>\n",
              "  </tbody>\n",
              "</table>\n",
              "</div>"
            ],
            "text/plain": [
              "         Consulta  ...  Pontuação\n",
              "1   marcos pontes  ...       5.76\n",
              "2  jair bolsonaro  ...       3.16\n",
              "3         futebol  ...       1.88\n",
              "\n",
              "[3 rows x 4 columns]"
            ]
          },
          "metadata": {
            "tags": []
          },
          "execution_count": 21
        }
      ]
    },
    {
      "cell_type": "markdown",
      "metadata": {
        "id": "D9SsWmoYNKhu",
        "colab_type": "text"
      },
      "source": [
        "Comparando as tabelas, percebemos os títulos de cada documento mostrado como melhor resultado para a consulta. Sendo assim, podemos perceber que o TF-IDF e o BM25 apresentam resultados muito parecidos, além de aparentarem ser os melhores para os testes feitos. \n",
        "\n",
        "Para as consultas \"marcos pontes\", \"jair bolsonaro\" e \"futebol\" que foram realizadas, ambos os algoritmos apresentaram o mesmo documento. No entanto, pelo grau de complexidade da implementação dos algoritmos, o TF-IDF merece mais destaque pois, além de mais simples comparado ao BM25, nos proporciona um resultado bastante satisfatório."
      ]
    },
    {
      "cell_type": "markdown",
      "metadata": {
        "id": "u3vxxVIVGmjO",
        "colab_type": "text"
      },
      "source": [
        "**2. Calcule e reporte o overlap par-a-par entre os resultados de cada modelo.**"
      ]
    },
    {
      "cell_type": "markdown",
      "metadata": {
        "id": "y7PU5kCHNiB1",
        "colab_type": "text"
      },
      "source": [
        "Primeiramente, definimos uma função calcula o índice de Jaccard."
      ]
    },
    {
      "cell_type": "code",
      "metadata": {
        "id": "ydUk7JeKGqn-",
        "colab_type": "code",
        "colab": {}
      },
      "source": [
        "def indiceJaccard(a, b):\n",
        "  na = len(a)\n",
        "  nb = len(b)\n",
        "  nab = len([elem for elem in a if elem in b])\n",
        "  expressao = na + nb - nab\n",
        "  if expressao != 0:\n",
        "    valorJaccard = nab / expressao\n",
        "  else:\n",
        "    valorJaccard = 0\n",
        "  return valorJaccard"
      ],
      "execution_count": 0,
      "outputs": []
    },
    {
      "cell_type": "markdown",
      "metadata": {
        "id": "870-UrsmOTvk",
        "colab_type": "text"
      },
      "source": [
        "Agora, iremos comparar os índices pela tabela abaixo."
      ]
    },
    {
      "cell_type": "code",
      "metadata": {
        "id": "5BQchBhFOYPk",
        "colab_type": "code",
        "outputId": "f3621edb-3b70-4b57-e219-76df3c35b826",
        "colab": {
          "base_uri": "https://localhost:8080/",
          "height": 204
        }
      },
      "source": [
        "todos_os_documentos = []\n",
        "todos_os_documentos.append(documento_top5_binario)\n",
        "todos_os_documentos.append(documento_top5_bm25)\n",
        "todos_os_documentos.append(documento_top5_tf)\n",
        "todos_os_documentos.append(documento_top5_tfidf)\n",
        "\n",
        "matriz = [['Modelo', 'Binário', 'TF', 'TF-IDF', 'BM25']]\n",
        "titulos = matriz\n",
        "for i in range(len(todos_os_documentos)):\n",
        "  linha = []\n",
        "  for j in range(len(todos_os_documentos)):\n",
        "    jaccard = indiceJaccard(todos_os_documentos[i], todos_os_documentos[j])\n",
        "    linha.append(round(jaccard, 2))\n",
        "  matriz.append(linha)\n",
        "for i in range(1, len(matriz)):\n",
        "  matriz[i].insert(0, matriz[0][i])\n",
        "  \n",
        "pd.DataFrame(matriz)"
      ],
      "execution_count": 23,
      "outputs": [
        {
          "output_type": "execute_result",
          "data": {
            "text/html": [
              "<div>\n",
              "<style scoped>\n",
              "    .dataframe tbody tr th:only-of-type {\n",
              "        vertical-align: middle;\n",
              "    }\n",
              "\n",
              "    .dataframe tbody tr th {\n",
              "        vertical-align: top;\n",
              "    }\n",
              "\n",
              "    .dataframe thead th {\n",
              "        text-align: right;\n",
              "    }\n",
              "</style>\n",
              "<table border=\"1\" class=\"dataframe\">\n",
              "  <thead>\n",
              "    <tr style=\"text-align: right;\">\n",
              "      <th></th>\n",
              "      <th>0</th>\n",
              "      <th>1</th>\n",
              "      <th>2</th>\n",
              "      <th>3</th>\n",
              "      <th>4</th>\n",
              "    </tr>\n",
              "  </thead>\n",
              "  <tbody>\n",
              "    <tr>\n",
              "      <th>0</th>\n",
              "      <td>Modelo</td>\n",
              "      <td>Binário</td>\n",
              "      <td>TF</td>\n",
              "      <td>TF-IDF</td>\n",
              "      <td>BM25</td>\n",
              "    </tr>\n",
              "    <tr>\n",
              "      <th>1</th>\n",
              "      <td>Binário</td>\n",
              "      <td>1</td>\n",
              "      <td>0.2</td>\n",
              "      <td>0.2</td>\n",
              "      <td>0.2</td>\n",
              "    </tr>\n",
              "    <tr>\n",
              "      <th>2</th>\n",
              "      <td>TF</td>\n",
              "      <td>0.2</td>\n",
              "      <td>1</td>\n",
              "      <td>1</td>\n",
              "      <td>1</td>\n",
              "    </tr>\n",
              "    <tr>\n",
              "      <th>3</th>\n",
              "      <td>TF-IDF</td>\n",
              "      <td>0.2</td>\n",
              "      <td>1</td>\n",
              "      <td>1</td>\n",
              "      <td>1</td>\n",
              "    </tr>\n",
              "    <tr>\n",
              "      <th>4</th>\n",
              "      <td>BM25</td>\n",
              "      <td>0.2</td>\n",
              "      <td>1</td>\n",
              "      <td>1</td>\n",
              "      <td>1</td>\n",
              "    </tr>\n",
              "  </tbody>\n",
              "</table>\n",
              "</div>"
            ],
            "text/plain": [
              "         0        1    2       3     4\n",
              "0   Modelo  Binário   TF  TF-IDF  BM25\n",
              "1  Binário        1  0.2     0.2   0.2\n",
              "2       TF      0.2    1       1     1\n",
              "3   TF-IDF      0.2    1       1     1\n",
              "4     BM25      0.2    1       1     1"
            ]
          },
          "metadata": {
            "tags": []
          },
          "execution_count": 23
        }
      ]
    },
    {
      "cell_type": "markdown",
      "metadata": {
        "id": "AtJoLWp3O8sJ",
        "colab_type": "text"
      },
      "source": [
        "De acordo com o indíce de Jaccard, percebemos que a discrepância do modelo binário é bem nítida, pois ele não possui similaridade com nenhum outro modelo. Entre os modelos TF e BM25, ocorre o valor máximo para o indíce de Jaccard, indicando assim a igualdade entre os dois modelos, fazendo com que confirmemos a escolha do TF-IDF como o modelo mais satisfatório. Já que, de acordo com os resultados da questão anterior, percebemos que o modelo TF apresenta resultados que não são satisfatórios para algumas consultas."
      ]
    }
  ]
}