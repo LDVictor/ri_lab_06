{
  "nbformat": 4,
  "nbformat_minor": 0,
  "metadata": {
    "colab": {
      "name": "Lab_06_ri.ipynb",
      "version": "0.3.2",
      "provenance": [],
      "collapsed_sections": [],
      "toc_visible": true
    },
    "kernelspec": {
      "name": "python3",
      "display_name": "Python 3"
    }
  },
  "cells": [
    {
      "cell_type": "markdown",
      "metadata": {
        "id": "MJLTyu82qf4z",
        "colab_type": "text"
      },
      "source": [
        "# Laboratório 06: Modelo Vetorial"
      ]
    },
    {
      "cell_type": "markdown",
      "metadata": {
        "id": "0odUa72pqo5n",
        "colab_type": "text"
      },
      "source": [
        "Antes de responder as perguntas, precisamos importar as extensões que usaremos no decorrer da atividade.\n"
      ]
    },
    {
      "cell_type": "markdown",
      "metadata": {
        "id": "jcu3jXRyrfL4",
        "colab_type": "text"
      },
      "source": [
        "\n",
        "*  **Importação das extensões necessárias** "
      ]
    },
    {
      "cell_type": "code",
      "metadata": {
        "id": "Ze0P9bmxrZLt",
        "colab_type": "code",
        "outputId": "f5720ecc-a825-45a6-9f7d-abe2e7bfe76b",
        "colab": {
          "base_uri": "https://localhost:8080/",
          "height": 85
        }
      },
      "source": [
        "import csv\n",
        "import pandas as pd\n",
        "import numpy as np\n",
        "import nltk\n",
        "import re\n",
        "import collections\n",
        "import math\n",
        "import matplotlib.pyplot as plt\n",
        "import seaborn as sns\n",
        "from nltk.tokenize import RegexpTokenizer\n",
        "from nltk.stem import PorterStemmer \n",
        "from nltk.tokenize import word_tokenize\n",
        "from nltk.corpus import stopwords\n",
        "nltk.download('stopwords')\n",
        "nltk.download('rslp')\n",
        "import heapq\n",
        "import time\n",
        "import bisect"
      ],
      "execution_count": 1,
      "outputs": [
        {
          "output_type": "stream",
          "text": [
            "[nltk_data] Downloading package stopwords to /root/nltk_data...\n",
            "[nltk_data]   Unzipping corpora/stopwords.zip.\n",
            "[nltk_data] Downloading package rslp to /root/nltk_data...\n",
            "[nltk_data]   Unzipping stemmers/rslp.zip.\n"
          ],
          "name": "stdout"
        }
      ]
    },
    {
      "cell_type": "markdown",
      "metadata": {
        "id": "OdfYJOqisKRo",
        "colab_type": "text"
      },
      "source": [
        "# Questão 1"
      ]
    },
    {
      "cell_type": "markdown",
      "metadata": {
        "id": "y3lcNBd6sR8e",
        "colab_type": "text"
      },
      "source": [
        "**Reconstruir o índice considerando o conjunto de dados que indicamos. Esses são os dados coletados por Bernardi e os estaremos usando para facilitar a correção da atividade.**\n"
      ]
    },
    {
      "cell_type": "markdown",
      "metadata": {
        "id": "AIP33xNCrolV",
        "colab_type": "text"
      },
      "source": [
        "\n",
        "*   **Leitura do CSV**"
      ]
    },
    {
      "cell_type": "code",
      "metadata": {
        "id": "TaPNEpzirz6m",
        "colab_type": "code",
        "colab": {}
      },
      "source": [
        "colecao = pd.read_csv('https://raw.githubusercontent.com/LDVictor/ri_lab_06/master/results.csv')\n",
        "#colecao = colecao.astype(str)\n",
        "documentos = colecao['text']"
      ],
      "execution_count": 0,
      "outputs": []
    },
    {
      "cell_type": "markdown",
      "metadata": {
        "id": "0RRE9E9C2DPv",
        "colab_type": "text"
      },
      "source": [
        "*   **Criação dos índices**"
      ]
    },
    {
      "cell_type": "code",
      "metadata": {
        "id": "-wHF3gm-SeuE",
        "colab_type": "code",
        "colab": {}
      },
      "source": [
        "tokenizador = RegexpTokenizer(r'([A-Za-zÁáÉéÍíÓóÚúÃãÕõÇçÂâÊê]{3,27})')\n",
        "stopwords = nltk.corpus.stopwords.words('portuguese') \n",
        "indices = {}\n",
        "n = 0\n",
        "\n",
        "for texto in documentos:\n",
        "  palavras = [palavra for palavra in tokenizador.tokenize(texto.lower())\n",
        "           if not bool(re.search(r'\\d', palavra))\n",
        "           and palavra not in stopwords and len(palavra) >= 3]  \n",
        "  n += 1\n",
        "  for t in palavras:\n",
        "    if t not in indices.keys():\n",
        "      indices[t] = []\n",
        "    indices[t].append(n)\n",
        "    \n",
        "for elemento in indices.items():\n",
        "  d = dict(collections.Counter(elemento[1]))\n",
        "  indices[elemento[0]] = list(d.items())"
      ],
      "execution_count": 0,
      "outputs": []
    },
    {
      "cell_type": "markdown",
      "metadata": {
        "id": "slZPTQtAszjl",
        "colab_type": "text"
      },
      "source": [
        "Agora, temos o índice com o novo conjunto de dados da questão."
      ]
    },
    {
      "cell_type": "markdown",
      "metadata": {
        "id": "VYY6t-0bs4Jx",
        "colab_type": "text"
      },
      "source": [
        "# Questão 2"
      ]
    },
    {
      "cell_type": "markdown",
      "metadata": {
        "id": "pCUxjPfIs6Jc",
        "colab_type": "text"
      },
      "source": [
        "**Refinar o índice invertido de forma a também incluir o IDF (inverse document frequency) de cada termo do dicionário.**"
      ]
    },
    {
      "cell_type": "markdown",
      "metadata": {
        "id": "KNSGlMvHfVlc",
        "colab_type": "text"
      },
      "source": [
        "Primeiro, faremos uma função que retorna o IDF do termo passado dado o dicionário."
      ]
    },
    {
      "cell_type": "code",
      "metadata": {
        "id": "koKSktXDfnxX",
        "colab_type": "code",
        "colab": {}
      },
      "source": [
        "def calculaIDF(palavra, ranking):\n",
        "  m = 0\n",
        "  i = 0\n",
        "  for documento in ranking:\n",
        "    if documento == palavra:\n",
        "      i = m\n",
        "    m += 1  \n",
        "  for frequencia in ranking.values():\n",
        "    if i == 0:\n",
        "      k = frequencia[0][0]\n",
        "    else:\n",
        "      i -= 1\n",
        "  if k == 0:\n",
        "    return 0\n",
        "  else:\n",
        "    idf = np.log10((m + 1) / k)\n",
        "    return idf"
      ],
      "execution_count": 0,
      "outputs": []
    },
    {
      "cell_type": "markdown",
      "metadata": {
        "id": "S_QgxDSRfuzs",
        "colab_type": "text"
      },
      "source": [
        "Agora, aplicaremos o IDF a cada palavra do ranking, adicionando o IDF ao dicionário em cada termo."
      ]
    },
    {
      "cell_type": "code",
      "metadata": {
        "id": "uxqKwkEx9E8i",
        "colab_type": "code",
        "colab": {
          "base_uri": "https://localhost:8080/",
          "height": 34
        },
        "outputId": "3aeecc15-86b9-4d11-ccb9-be81bd019be1"
      },
      "source": [
        "# Teste\n",
        "calculaIDF(\"bolsonaro\", indices)"
      ],
      "execution_count": 72,
      "outputs": [
        {
          "output_type": "execute_result",
          "data": {
            "text/plain": [
              "1.9496251099024628"
            ]
          },
          "metadata": {
            "tags": []
          },
          "execution_count": 72
        }
      ]
    }
  ]
}